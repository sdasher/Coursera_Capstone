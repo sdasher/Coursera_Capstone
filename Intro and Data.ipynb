{
  "nbformat": 4,
  "nbformat_minor": 0,
  "metadata": {
    "colab": {
      "name": "Untitled3.ipynb",
      "provenance": [],
      "authorship_tag": "ABX9TyNmQBE8C0EjG45a0R51Qe4E",
      "include_colab_link": true
    },
    "kernelspec": {
      "name": "python3",
      "display_name": "Python 3"
    },
    "language_info": {
      "name": "python"
    }
  },
  "cells": [
    {
      "cell_type": "markdown",
      "metadata": {
        "id": "view-in-github",
        "colab_type": "text"
      },
      "source": [
        "<a href=\"https://colab.research.google.com/github/sdasher/Coursera_capstone/blob/main/Intro%20and%20Data.ipynb\" target=\"_parent\"><img src=\"https://colab.research.google.com/assets/colab-badge.svg\" alt=\"Open In Colab\"/></a>"
      ]
    },
    {
      "cell_type": "markdown",
      "metadata": {
        "id": "M-uBtEucvWvw"
      },
      "source": [
        "#Manhattan Daycares\n",
        "##Introduction/Business Problem\n",
        "Audience: Government/ Human Services.  Among the many inequities that the COVID-19 pandemic has revealed is unequal access to childcare for working people, especially in lower-income and minority communities.  I am using Foursquare location data to identify neighborhoods in Manhattan that are underserved with Daycares, for the purpose of targeting new Daycare services in places with high need.\n",
        "\n",
        "\n",
        "##Data\n",
        "I will be using the NYU neighborhood location data set found at\n",
        "\n",
        "https://geo.nyu.edu/catalog/nyu_2451_34572\n",
        "\n",
        "to divide Manhattan into neighborhoods. This dataset divides Manhattan into 304 neighbohoods--for example, Tribeca or Soho, and gives a long, lat coordinate center to each neighborhood. I will use Foursquare's venue categories, found here\n",
        "\n",
        "https://developer.foursquare.com/docs/build-with-foursquare/categories/\n",
        "\n",
        "to count Daycares. This dataset identifies individual businesses, their coordinate locations, and categorizes them according to the business they conduct--for example, 'Daycare' or 'Physical Therapist'. In this case, I will be using the Daycare categorization.\n",
        "\n",
        "I will then merge the two datasets based on spatial proximity to find neighborhoods that have many daycares, and neighborhoods that have few."
      ]
    },
    {
      "cell_type": "code",
      "metadata": {
        "id": "uuL3TxhVvVpe"
      },
      "source": [
        ""
      ],
      "execution_count": null,
      "outputs": []
    }
  ]
}
