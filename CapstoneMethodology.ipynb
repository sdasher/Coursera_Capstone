{
  "nbformat": 4,
  "nbformat_minor": 0,
  "metadata": {
    "colab": {
      "name": "CapstoneMethodology.ipynb",
      "provenance": [],
      "authorship_tag": "ABX9TyMLGecTepQgJz40FQvEVORV",
      "include_colab_link": true
    },
    "kernelspec": {
      "name": "python3",
      "display_name": "Python 3"
    },
    "language_info": {
      "name": "python"
    }
  },
  "cells": [
    {
      "cell_type": "markdown",
      "metadata": {
        "id": "view-in-github",
        "colab_type": "text"
      },
      "source": [
        "<a href=\"https://colab.research.google.com/github/sdasher/Coursera_capstone/blob/main/CapstoneMethodology.ipynb\" target=\"_parent\"><img src=\"https://colab.research.google.com/assets/colab-badge.svg\" alt=\"Open In Colab\"/></a>"
      ]
    },
    {
      "cell_type": "markdown",
      "metadata": {
        "id": "M-uBtEucvWvw"
      },
      "source": [
        "#Manhattan Daycares\n",
        "##Introduction/Business Problem\n",
        "I am using Foursquare to identify neighborhoods in Manhattan that are underserved with Daycares, for the purpose of opening new daycares in high-need neighborhoods.\n",
        "\n",
        "\n",
        "##Data\n",
        "I will be using the NYU neighborhood location data set found at\n",
        "\n",
        "https://geo.nyu.edu/catalog/nyu_2451_34572\n",
        "\n",
        "to divide Manhattan into neighborhoods. I will use Foursquare's venue categories, found here\n",
        "\n",
        "https://developer.foursquare.com/docs/build-with-foursquare/categories/\n",
        "\n",
        "to count Daycares.\n",
        "\n",
        "I will then merge the two datasets to find neighborhoods that have many daycares, and neighborhoods that have few.\n",
        "\n",
        "##Methodology\n",
        "I imported the neighborhood data and the venue data into pandas dataframes for exploratory data analysis and to do summary statistics and aggregation of the data. I used folium to visualize the data in map form.\n",
        "\n",
        "##Results\n",
        "There are a wealth of daycare options in southern Manhattan, which peter out in the north (Harlem and the Bronx). The best-served neighborhoods are \n",
        "\n",
        "Neighborhood       # of Daycares\n",
        "Civic Center           19\n",
        "Little Italy           15\n",
        "Flatiron               15\n",
        "Chelsea                13\n",
        "Midtown South          13\n",
        "Gramercy               13\n",
        "Soho                   12\n",
        "Financial District     12\n",
        "Battery Park City      10\n",
        "Upper West Side        10\n",
        "Tribeca                10\n",
        "Murray Hill            10\n",
        "Manhattan Valley       10\n",
        "Yorkville              10\n",
        "\n",
        "And the underserved neighborhoods are\n",
        "\n",
        "Neighborhood          # of Daycares\n",
        "Roosevelt Island        5\n",
        "Lower East Side         5\n",
        "Stuyvesant Town         5\n",
        "Hudson Yards            4\n",
        "Sutton Place            4\n",
        "Central Harlem          3\n",
        "East Harlem             3\n",
        "Marble Hill             2\n",
        "Hamilton Heights        2\n",
        "Manhattanville          1\n",
        "Inwood                  1\n",
        "\n",
        "##Discussion\n",
        "\n",
        "There is a big disparity in daycare availability across the island of Manhattan, with many more daycares in the southern part of the island than in the north. In particular, the Bronx and Harlem are underserved, and the Upper West Side and Midtown are well-served.\n",
        "\n",
        "##Conclusion\n",
        "I feel comfortable making this basic observation about daycare inequity because Manhattan is very densely populated across its entire area; even if fewer people live and work in Inwood than in the Financial district, there is no way that there exists 19 times more need for daycare service in the Financial District.\n",
        "\n",
        "Generally speaking, daycares are more available in the neighborhoods where wealthier people live, and more white-collar work are happening: midtown, downtown, and the Upper West Side. Further study could reveal how strongly daycare availability correlates with an area's income."
      ]
    },
    {
      "cell_type": "code",
      "metadata": {
        "id": "uuL3TxhVvVpe"
      },
      "source": [
        ""
      ],
      "execution_count": null,
      "outputs": []
    }
  ]
}